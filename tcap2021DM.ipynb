{
 "cells": [
  {
   "cell_type": "markdown",
   "id": "a872f541",
   "metadata": {},
   "source": [
    "# How to perform a dark matter analysis with ctools\n",
    "\n",
    "In this tutorial you will learn how to use ctools to constrain the parameters of a dark-matter model\n",
    "(mass and annihilation cross section). We will consider as an example the dwarf spheroidal galaxy\n",
    "Aquarius II. Credits for the notebook:Alejandra Aguirre-Santaella, Tarek Hassan, and Sergio Hernández Cadena\n",
    "\n",
    "Lets start by importing the required Python modules"
   ]
  },
  {
   "cell_type": "code",
   "execution_count": null,
   "id": "9b45a688",
   "metadata": {},
   "outputs": [],
   "source": [
    "%matplotlib inline\n",
    "import matplotlib.pyplot as plt\n",
    "from matplotlib.colors import LogNorm\n",
    "import numpy as np\n",
    "\n",
    "import gammalib\n",
    "import ctools\n",
    "import cscripts\n",
    "\n",
    "import time\n",
    "\n",
    "import sys\n",
    "import os\n",
    "from show_residuals import plot_residuals"
   ]
  },
  {
   "cell_type": "markdown",
   "id": "8fd0b537",
   "metadata": {},
   "source": [
    "This notebook was tested using python 3 (more specifically 3.7.6) ctools/gammalib version 1.7.4. If you have errors, please check first if they dissapear when using this version!"
   ]
  },
  {
   "cell_type": "code",
   "execution_count": null,
   "id": "d4f052b0",
   "metadata": {},
   "outputs": [],
   "source": [
    "print(ctools.__version__)\n",
    "print(gammalib.__version__)"
   ]
  },
  {
   "cell_type": "markdown",
   "id": "e0398156",
   "metadata": {},
   "source": [
    "## Modelling the source\n",
    "\n",
    "For simplicity we assume the galaxy is a point source for CTA.\n",
    "\n",
    "We take the value of the astrophysical J factor from [Pace & Strigari, 2018](https://arxiv.org/abs/1802.06811) (units: $\\text{GeV}^2~\\text{cm}^{-5}$). Coordinates for the Aquarius II galaxy are taken from [Torealba et al., 2016](https://academic.oup.com/mnras/article/463/1/712/2589989)."
   ]
  },
  {
   "cell_type": "code",
   "execution_count": null,
   "id": "420c21d3",
   "metadata": {},
   "outputs": [],
   "source": [
    "srcname = 'AquariusII'\n",
    "jfactor = 1.8621e+18\n",
    "\n",
    "ra      = 338.4813\n",
    "dec     = -9.3274"
   ]
  },
  {
   "cell_type": "markdown",
   "id": "6f8f24d1",
   "metadata": {},
   "source": [
    "The dark-matter annihilation spectrum is modelled using the tables from [Cirelli et al., 2011](http://www.marcocirelli.net/PPPC4DMID.html). The tables were formatted in such a way that they can be ingested by ctools. You can check this [example](https://github.com/sergiohcdna/ctaAnalysis/blob/development/examples/create_dmtable.py) to see how to create the file from the literature material. We provide two files depending if the spectrum include or not electroweak corrections. The example FITS file contains the tables for different annihilation channels, gamma-ray energies between $30~\\text{GeV}$ and $100~\\text{TeV}$, and dark-matter masses in the range $[0.1,100]~\\text{TeV}$. Using the spectrum in this way allow us to only change the flux normalization for other galaxies. See below."
   ]
  },
  {
   "cell_type": "code",
   "execution_count": null,
   "id": "79fbb65b",
   "metadata": {},
   "outputs": [],
   "source": [
    "dmspecEW = 'DMModelAnnihilationAquariusIIEW1.fits'"
   ]
  },
  {
   "cell_type": "markdown",
   "id": "59db34e1",
   "metadata": {},
   "source": [
    "For our example we will set the DM mass (GeV) and annihilation channel to $\\tau$'s as follows."
   ]
  },
  {
   "cell_type": "code",
   "execution_count": null,
   "id": "2128c3ce",
   "metadata": {},
   "outputs": [],
   "source": [
    "mass    = 5.0e+3\n",
    "channel = 8"
   ]
  },
  {
   "cell_type": "markdown",
   "id": "d61bddaa",
   "metadata": {},
   "source": [
    "For the moment we will set the value of the annihilation cross section ($\\langle\\sigma_{\\chi}v\\rangle$ in $\\text{cm}^3~\\text{s}^{-1}$) based on the upper limits obtained with data from the H.E.S.S. experiment: [Search for dark matter signals towards recently detected DES dwarf galaxy satellites](https://arxiv.org/abs/2008.00688)."
   ]
  },
  {
   "cell_type": "code",
   "execution_count": null,
   "id": "d30f4e98",
   "metadata": {},
   "outputs": [],
   "source": [
    "sigmav = 2.7e-22"
   ]
  },
  {
   "cell_type": "markdown",
   "id": "8316acde",
   "metadata": {},
   "source": [
    "We can now combine J factor, mass, and annhilihation cross section to derive the overall flux normalization for this model."
   ]
  },
  {
   "cell_type": "code",
   "execution_count": null,
   "id": "e19ae69d",
   "metadata": {},
   "outputs": [],
   "source": [
    "fluxnorm  = jfactor * sigmav / (8*gammalib.pi*mass**2)\n",
    "fluxnorm *= 1.0e-3"
   ]
  },
  {
   "cell_type": "markdown",
   "id": "efaec34f",
   "metadata": {},
   "source": [
    "We use the GModelSpectralTable class in GammaLib to manage the spectral model. You can check [gammalib Documentation about Spectral components](http://cta.irap.omp.eu/gammalib/users/user_manual/modules/model/sky/spectral.html) for more information anout GModelSpectralTable. You can also follow the tutorial *How to do advanced model manipulation and fitting in Python* to learn how handle models with GammaLib.\n",
    "\n",
    "The steps necessary to set up the spectral model are\n",
    "- load the fits file\n",
    "- set the value of the mass we will simulate\n",
    "- set the annihilation channel\n",
    "- set the normalization of the spectrum\n",
    "\n",
    "The names of the dark-matter parameters are set within the FITS file in the PARAMETERS extension."
   ]
  },
  {
   "cell_type": "code",
   "execution_count": null,
   "id": "b5660923",
   "metadata": {},
   "outputs": [],
   "source": [
    "dmspec = gammalib.GModelSpectralTable()\n",
    "dmspec.load(dmspecEW)\n",
    "dmspec['Mass'].value(mass)\n",
    "dmspec['Channel'].value(channel)\n",
    "dmspec['Channel'].scale(1)\n",
    "dmspec['Normalization'].value(fluxnorm)\n",
    "dmspec['Normalization'].range(0.0, 1.0e+20)"
   ]
  },
  {
   "cell_type": "markdown",
   "id": "13c6bc32",
   "metadata": {},
   "source": [
    "The normalization is a free parameter by default. In this example, we will aditionally set free the mass"
   ]
  },
  {
   "cell_type": "code",
   "execution_count": null,
   "id": "c4b706a8",
   "metadata": {},
   "outputs": [],
   "source": [
    "dmspec['Mass'].free()"
   ]
  },
  {
   "cell_type": "markdown",
   "id": "96b444e9",
   "metadata": {},
   "source": [
    "Now, we can take a look at the spectral information of our source. Note that we will use the spectrum with electroweak corrections."
   ]
  },
  {
   "cell_type": "code",
   "execution_count": null,
   "id": "c63492d9",
   "metadata": {},
   "outputs": [],
   "source": [
    "print(dmspec)"
   ]
  },
  {
   "cell_type": "markdown",
   "id": "ddf4d88a",
   "metadata": {},
   "source": [
    "We then create the spatial model and the source model using the appropriate GammaLib classes."
   ]
  },
  {
   "cell_type": "code",
   "execution_count": null,
   "id": "df2155e2",
   "metadata": {},
   "outputs": [],
   "source": [
    "spatial = gammalib.GModelSpatialPointSource(ra, dec)\n",
    "\n",
    "dmmodel = gammalib.GModelSky(spatial, dmspec)\n",
    "dmmodel.name(srcname)\n",
    "dmmodel.tscalc(True) # calculate TS for this source"
   ]
  },
  {
   "cell_type": "markdown",
   "id": "8a26703b",
   "metadata": {},
   "source": [
    "### Questions\n",
    "\n",
    "1. Mention the features of photon spectra from annihilation of dark matter particles. \n",
    "2. Plot the spectrum of the source we will be simulating. Hint: use the dmspec.eval() function, which needs gammalib.GEnergy as input."
   ]
  },
  {
   "cell_type": "code",
   "execution_count": null,
   "id": "1f8f69a4",
   "metadata": {},
   "outputs": [],
   "source": []
  },
  {
   "cell_type": "markdown",
   "id": "dc0ea60b",
   "metadata": {},
   "source": [
    "## Simulating CTA Observations\n",
    "\n",
    "### Sky model\n",
    "\n",
    "We also need a model for the instrumental background, that we will read from the IRFs with a power-law spectral correction."
   ]
  },
  {
   "cell_type": "code",
   "execution_count": null,
   "id": "0874a708",
   "metadata": {},
   "outputs": [],
   "source": [
    "# spectral correction\n",
    "spectral = gammalib.GModelSpectralPlaw(1, 0, gammalib.GEnergy(1, 'TeV'))\n",
    "\n",
    "# background model\n",
    "bkgmodel = gammalib.GCTAModelIrfBackground(spectral)\n",
    "bkgmodel.name('Background')\n",
    "bkgmodel.instruments('CTA')"
   ]
  },
  {
   "cell_type": "markdown",
   "id": "b1524fd9",
   "metadata": {},
   "source": [
    "We combine the two models in a container and save it to disk for later use."
   ]
  },
  {
   "cell_type": "code",
   "execution_count": null,
   "id": "87473321",
   "metadata": {},
   "outputs": [],
   "source": [
    "inmodel = \"inmodel.xml\"\n",
    "models  = gammalib.GModels()\n",
    "models.append(dmmodel)\n",
    "models.append(bkgmodel)\n",
    "models.save(inmodel)"
   ]
  },
  {
   "cell_type": "markdown",
   "id": "7e48e6f0",
   "metadata": {},
   "source": [
    "### Exercise: Observation simulation\n",
    "\n",
    "We simulate an observation of 30 min pointed at Aquarius II using the instrument response functions for CTA South."
   ]
  },
  {
   "cell_type": "code",
   "execution_count": null,
   "id": "ab58ce8d",
   "metadata": {},
   "outputs": [],
   "source": [
    "emin  = 0.03 # TeV\n",
    "emax  = 100. # TeV\n",
    "caldb = 'prod3b-v2'\n",
    "irf   = 'South_z40_50h'\n",
    "\n",
    "obssim = ctools.ctobssim()"
   ]
  },
  {
   "cell_type": "markdown",
   "id": "784886dd",
   "metadata": {},
   "source": [
    "### Exercise: creating a skymap\n",
    "\n",
    "Peek at the simulated events by creating a skymap."
   ]
  },
  {
   "cell_type": "code",
   "execution_count": null,
   "id": "cf8fca65",
   "metadata": {},
   "outputs": [],
   "source": [
    "skymap = ctools.ctskymap(obssim.obs())\n"
   ]
  },
  {
   "cell_type": "code",
   "execution_count": null,
   "id": "d1eedb1a",
   "metadata": {},
   "outputs": [],
   "source": []
  },
  {
   "cell_type": "markdown",
   "id": "c9029fe7",
   "metadata": {},
   "source": [
    "## Exercise: Likelihood Analysis\n",
    "\n",
    "Run the likelihood analysis"
   ]
  },
  {
   "cell_type": "code",
   "execution_count": null,
   "id": "7b076a75",
   "metadata": {},
   "outputs": [],
   "source": [
    "like = ctools.ctlike(obssim.obs())\n",
    "like.run()"
   ]
  },
  {
   "cell_type": "markdown",
   "id": "cad2c7cd",
   "metadata": {},
   "source": [
    "Let's check the TS of the source"
   ]
  },
  {
   "cell_type": "code",
   "execution_count": null,
   "id": "7c2245e9",
   "metadata": {},
   "outputs": [],
   "source": [
    "like.obs().models()[srcname].ts()"
   ]
  },
  {
   "cell_type": "markdown",
   "id": "84959c49",
   "metadata": {},
   "source": [
    "### Exercise\n",
    "Generate residual map and spectrum to verify that the fitted model reproduces the data well."
   ]
  },
  {
   "cell_type": "code",
   "execution_count": null,
   "id": "31baeb1e",
   "metadata": {},
   "outputs": [],
   "source": [
    "resspec = cscripts.csresspec(like.obs())\n"
   ]
  },
  {
   "cell_type": "code",
   "execution_count": null,
   "id": "f4fe35fe",
   "metadata": {},
   "outputs": [],
   "source": [
    "plot_residuals('resid_spectrum.fits','',0)"
   ]
  },
  {
   "cell_type": "markdown",
   "id": "4fa2555a",
   "metadata": {},
   "source": [
    "### Results of the analysis\n",
    "\n",
    "So the model we simulated yields a significant detection of the dark-matter signal!\n",
    "\n",
    "We can check the fitted model to get the value of the mass and compare with the input."
   ]
  },
  {
   "cell_type": "code",
   "execution_count": null,
   "id": "0f229e42",
   "metadata": {},
   "outputs": [],
   "source": [
    "print(like.obs().models()[srcname])"
   ]
  },
  {
   "cell_type": "markdown",
   "id": "d772bb68",
   "metadata": {},
   "source": [
    "For the annihilation cross-section $\\langle\\sigma_{\\chi}v\\rangle$ we need to take into account the J factor. The easiest way is to derive the annihilation cross-section based on the ratio $\\xi$ between the flux measured and the flux expected for the reference cross-section value. We will consider the integrated flux from the minimum energy of the observations up to the dark-matter mass.\n",
    "The measured annihilation cross-section therefore is:\n",
    "\n",
    "$\\langle\\sigma_{\\chi}v\\rangle_{\\text{meas}} = \\xi \\times \\langle\\sigma_{\\chi}v\\rangle_{\\text{ref}}$"
   ]
  },
  {
   "cell_type": "markdown",
   "id": "cbb5762e",
   "metadata": {},
   "source": [
    "### Exercise:\n",
    "\n",
    "1. Did you see anything in the skymap? We actually didn't... Why not? \n",
    "2. Can you come up with any way to see the point-like source we are simulating? ctools is detecting it, so it must be somewhere... "
   ]
  },
  {
   "cell_type": "code",
   "execution_count": null,
   "id": "b7480833",
   "metadata": {},
   "outputs": [],
   "source": []
  },
  {
   "cell_type": "markdown",
   "id": "1896a91d",
   "metadata": {},
   "source": [
    "### Exercise:\n",
    "\n",
    "1. Derive the uncertainty on $\\langle\\sigma_{\\chi}v\\rangle$ from the relative uncertainty of the normalization parameter.\n",
    "2. What is the \"observed\" value for the mass of the particle?"
   ]
  },
  {
   "cell_type": "code",
   "execution_count": null,
   "id": "221876fa",
   "metadata": {},
   "outputs": [],
   "source": [
    "# Define energy range where the integrated flux is computed\n",
    "gemin = gammalib.GEnergy(emin, 'TeV')\n",
    "gemax = gammalib.GEnergy(mass, 'GeV')\n",
    "# Get the reference flux\n",
    "ref_flux = dmmodel.spectral().flux(gemin, gemax)\n",
    "# Get the measured flux\n",
    "meas_flux = like.obs().models()[srcname].spectral().flux(gemin, gemax)\n",
    "# Measured cross-section\n",
    "print(meas_sigmav)"
   ]
  },
  {
   "cell_type": "code",
   "execution_count": null,
   "id": "a756fa4a",
   "metadata": {},
   "outputs": [],
   "source": []
  },
  {
   "cell_type": "code",
   "execution_count": null,
   "id": "01fa269f",
   "metadata": {},
   "outputs": [],
   "source": []
  },
  {
   "cell_type": "code",
   "execution_count": null,
   "id": "a2248842",
   "metadata": {},
   "outputs": [],
   "source": [
    "print('Annihilation cross-section from observations:\\n')\n",
    "print('\\t{:.3e} +/- {:.3e} cm**3/s'.format(meas_sigmav, sigma_v_error))"
   ]
  },
  {
   "cell_type": "markdown",
   "id": "f956ada1",
   "metadata": {},
   "source": [
    "## Upper limits\n",
    "\n",
    "Unfortunately the dark-matter signal may not be so strong that CTA can detect it. In this case you will want to set upper limits on the annihilation cross-section. To explore this scenario we will perform a new simulation with different parameters."
   ]
  },
  {
   "cell_type": "code",
   "execution_count": null,
   "id": "8f80528f",
   "metadata": {},
   "outputs": [],
   "source": [
    "sigmav = 5.0e-24\n",
    "\n",
    "fluxnorm  = jfactor * sigmav / (8*gammalib.pi*mass**2)\n",
    "fluxnorm *= 1.0e-3"
   ]
  },
  {
   "cell_type": "code",
   "execution_count": null,
   "id": "51b0c784",
   "metadata": {},
   "outputs": [],
   "source": [
    "models[srcname].spectral()['Normalization'].value(fluxnorm)\n",
    "models[srcname].spectral()['Mass'].fix()\n",
    "models.save(inmodel)"
   ]
  },
  {
   "cell_type": "markdown",
   "id": "74a20180",
   "metadata": {},
   "source": [
    "### Exercise: Simulating new observations\n",
    "\n",
    "We regenerate the observations for the new cross-section value. (Again, 30 min)"
   ]
  },
  {
   "cell_type": "code",
   "execution_count": null,
   "id": "27d36811",
   "metadata": {},
   "outputs": [],
   "source": [
    "obssim = ctools.ctobssim()\n",
    "obssim.run()"
   ]
  },
  {
   "cell_type": "markdown",
   "id": "5ffcf18e",
   "metadata": {},
   "source": [
    "We perform again a likelihood fit and check the TS value."
   ]
  },
  {
   "cell_type": "code",
   "execution_count": null,
   "id": "adbef97e",
   "metadata": {},
   "outputs": [],
   "source": [
    "like = ctools.ctlike(obssim.obs())\n",
    "like.run()"
   ]
  },
  {
   "cell_type": "code",
   "execution_count": null,
   "id": "65a1abf3",
   "metadata": {},
   "outputs": [],
   "source": [
    "like.obs().models()[srcname].ts()"
   ]
  },
  {
   "cell_type": "markdown",
   "id": "b5207b19",
   "metadata": {},
   "source": [
    "The small value of TS means that there is no evidence of any dark-matter signal. Therefore we proceed to compute upper limits on the annihilation cross-section.\n",
    "\n",
    "In order to do so let's fix the mass and calculate an upper limit on the normalization. For example let's consider a mass of 5 TeV."
   ]
  },
  {
   "cell_type": "code",
   "execution_count": null,
   "id": "1dc18b73",
   "metadata": {},
   "outputs": [],
   "source": [
    "print(like.obs().models()[srcname])"
   ]
  },
  {
   "cell_type": "markdown",
   "id": "a5278756",
   "metadata": {},
   "source": [
    "### Exercise\n",
    "\n",
    "We can use ctulimit to compute an upper limit on the source normalization.\n",
    "\n",
    "Tip: set wisely the energy range for the calculation of the integral flux upper limits."
   ]
  },
  {
   "cell_type": "code",
   "execution_count": null,
   "id": "78ecddc0",
   "metadata": {},
   "outputs": [],
   "source": [
    "ulimit = ctools.ctulimit(obssim.obs())\n",
    "ulimit.run()"
   ]
  },
  {
   "cell_type": "markdown",
   "id": "5cf01511",
   "metadata": {},
   "source": [
    "### Exercise\n",
    "As we did before we can compare the flux upper limit and reference flux to obtain an upper limit on the annhilation cross-section. Derive the UL to the annihilation cross-secion"
   ]
  },
  {
   "cell_type": "code",
   "execution_count": null,
   "id": "6c082d4e",
   "metadata": {},
   "outputs": [],
   "source": [
    "ulimit_flux = ulimit.flux_ulimit()\n",
    "ul_sigmav =\n",
    "\n",
    "print(ul_sigmav)"
   ]
  },
  {
   "cell_type": "markdown",
   "id": "01a22a15",
   "metadata": {},
   "source": [
    "### Exercise\n",
    "\n",
    "1. Compute the UL on the annihilation cross-section using as spectral model the spectrum without electroweak corrections. You need to load the file \"DMModelAnnihilationAquariusIIEW0.fits\".\n",
    "    - Hint: You don't need to rerun ctobssim\n",
    "    - Please be sure to pass the correct number to indicate the same annihilation channel ($\\tau$). Check [Cirelli et al., 2011](http://www.marcocirelli.net/PPPC4DMID.html).\n",
    "\n",
    "To check if there is a real difference between the two ULs, we first need to compute the average UL after perform several realizations (for example ~50)."
   ]
  },
  {
   "cell_type": "markdown",
   "id": "96156ef9",
   "metadata": {},
   "source": [
    "### Likelihood Profile\n",
    "\n",
    "In this case we explore a simple model where the parameter of interest impact the value of the overall normalization of the gamma-ray flux. In other models, the parameter of interest change directly the shape of the spectrum, or inclusive if we want to estimate the impact of nuisance paramaters, is good practice to take a look at the likelihood profile. Let's check what the likelihood profile looks like for the normalization (related to the parameter of interest).\n",
    "\n",
    "First, we define the range we are interested to check:"
   ]
  },
  {
   "cell_type": "code",
   "execution_count": null,
   "id": "2b22d99e",
   "metadata": {},
   "outputs": [],
   "source": [
    "norma_r = np.logspace(-28, 6)"
   ]
  },
  {
   "cell_type": "markdown",
   "id": "5276ab5c",
   "metadata": {},
   "source": [
    "Now, we fix the normalization in our model."
   ]
  },
  {
   "cell_type": "code",
   "execution_count": null,
   "id": "1a1b3b61",
   "metadata": {},
   "outputs": [],
   "source": [
    "like.obs().models()[srcname].spectral()['Normalization'].fix()"
   ]
  },
  {
   "cell_type": "markdown",
   "id": "1a44528f",
   "metadata": {},
   "source": [
    "We compute the likelihood for every normalization value and saving to a list (take several minutes...)"
   ]
  },
  {
   "cell_type": "code",
   "execution_count": null,
   "id": "37b9a002",
   "metadata": {},
   "outputs": [],
   "source": [
    "ll_values = []\n",
    "\n",
    "for norma in norma_r :\n",
    "    like.obs().models()[srcname].spectral()['Normalization'].value(norma)\n",
    "    like.run()\n",
    "    ll = like.opt().value()\n",
    "    ll_values.append(ll)"
   ]
  },
  {
   "cell_type": "markdown",
   "id": "7dde8cdb",
   "metadata": {},
   "source": [
    "Now, let's plot the results"
   ]
  },
  {
   "cell_type": "code",
   "execution_count": null,
   "id": "0736ebd8",
   "metadata": {},
   "outputs": [],
   "source": [
    "fig, ax = plt.subplots(figsize=(9, 6))\n",
    "\n",
    "ax.plot(norma_r, ll_values, color=( 0.82 , 0.10 , 0.26 ), lw=2)\n",
    "\n",
    "ax.set_ylim(1.e+5, 1.e+11)\n",
    "ax.set_xlim(1.e-28, 1.e-6)\n",
    "ax.set_xscale('log')\n",
    "ax.set_yscale('log')\n",
    "ax.set_xlabel('Normalization')\n",
    "ax.set_ylabel('$\\\\log{L}$')\n"
   ]
  },
  {
   "cell_type": "code",
   "execution_count": null,
   "id": "af8543d4",
   "metadata": {},
   "outputs": [],
   "source": []
  }
 ],
 "metadata": {
  "kernelspec": {
   "display_name": "Python 3",
   "language": "python",
   "name": "python3"
  },
  "language_info": {
   "codemirror_mode": {
    "name": "ipython",
    "version": 3
   },
   "file_extension": ".py",
   "mimetype": "text/x-python",
   "name": "python",
   "nbconvert_exporter": "python",
   "pygments_lexer": "ipython3",
   "version": "3.6.7"
  }
 },
 "nbformat": 4,
 "nbformat_minor": 5
}
